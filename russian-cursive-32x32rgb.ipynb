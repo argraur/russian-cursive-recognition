{
 "cells": [
  {
   "cell_type": "code",
   "execution_count": 201,
   "metadata": {},
   "outputs": [
    {
     "name": "stdout",
     "output_type": "stream",
     "text": [
      "Requirement already satisfied: tensorflow==2.15 in c:\\users\\argraur\\projects\\nn\\lab1\\.conda\\lib\\site-packages (2.15.0)\n",
      "Requirement already satisfied: pillow in c:\\users\\argraur\\projects\\nn\\lab1\\.conda\\lib\\site-packages (10.2.0)\n",
      "Requirement already satisfied: tensorflow-intel==2.15.0 in c:\\users\\argraur\\projects\\nn\\lab1\\.conda\\lib\\site-packages (from tensorflow==2.15) (2.15.0)\n",
      "Requirement already satisfied: absl-py>=1.0.0 in c:\\users\\argraur\\projects\\nn\\lab1\\.conda\\lib\\site-packages (from tensorflow-intel==2.15.0->tensorflow==2.15) (2.1.0)\n",
      "Requirement already satisfied: astunparse>=1.6.0 in c:\\users\\argraur\\projects\\nn\\lab1\\.conda\\lib\\site-packages (from tensorflow-intel==2.15.0->tensorflow==2.15) (1.6.3)\n",
      "Requirement already satisfied: flatbuffers>=23.5.26 in c:\\users\\argraur\\projects\\nn\\lab1\\.conda\\lib\\site-packages (from tensorflow-intel==2.15.0->tensorflow==2.15) (24.3.7)\n",
      "Requirement already satisfied: gast!=0.5.0,!=0.5.1,!=0.5.2,>=0.2.1 in c:\\users\\argraur\\projects\\nn\\lab1\\.conda\\lib\\site-packages (from tensorflow-intel==2.15.0->tensorflow==2.15) (0.5.4)\n",
      "Requirement already satisfied: google-pasta>=0.1.1 in c:\\users\\argraur\\projects\\nn\\lab1\\.conda\\lib\\site-packages (from tensorflow-intel==2.15.0->tensorflow==2.15) (0.2.0)\n",
      "Requirement already satisfied: h5py>=2.9.0 in c:\\users\\argraur\\projects\\nn\\lab1\\.conda\\lib\\site-packages (from tensorflow-intel==2.15.0->tensorflow==2.15) (3.10.0)\n",
      "Requirement already satisfied: libclang>=13.0.0 in c:\\users\\argraur\\projects\\nn\\lab1\\.conda\\lib\\site-packages (from tensorflow-intel==2.15.0->tensorflow==2.15) (18.1.1)\n",
      "Requirement already satisfied: ml-dtypes~=0.2.0 in c:\\users\\argraur\\projects\\nn\\lab1\\.conda\\lib\\site-packages (from tensorflow-intel==2.15.0->tensorflow==2.15) (0.2.0)\n",
      "Requirement already satisfied: numpy<2.0.0,>=1.23.5 in c:\\users\\argraur\\projects\\nn\\lab1\\.conda\\lib\\site-packages (from tensorflow-intel==2.15.0->tensorflow==2.15) (1.26.4)\n",
      "Requirement already satisfied: opt-einsum>=2.3.2 in c:\\users\\argraur\\projects\\nn\\lab1\\.conda\\lib\\site-packages (from tensorflow-intel==2.15.0->tensorflow==2.15) (3.3.0)\n",
      "Requirement already satisfied: packaging in c:\\users\\argraur\\projects\\nn\\lab1\\.conda\\lib\\site-packages (from tensorflow-intel==2.15.0->tensorflow==2.15) (24.0)\n",
      "Requirement already satisfied: protobuf!=4.21.0,!=4.21.1,!=4.21.2,!=4.21.3,!=4.21.4,!=4.21.5,<5.0.0dev,>=3.20.3 in c:\\users\\argraur\\projects\\nn\\lab1\\.conda\\lib\\site-packages (from tensorflow-intel==2.15.0->tensorflow==2.15) (4.25.3)\n",
      "Requirement already satisfied: setuptools in c:\\users\\argraur\\projects\\nn\\lab1\\.conda\\lib\\site-packages (from tensorflow-intel==2.15.0->tensorflow==2.15) (68.2.2)\n",
      "Requirement already satisfied: six>=1.12.0 in c:\\users\\argraur\\projects\\nn\\lab1\\.conda\\lib\\site-packages (from tensorflow-intel==2.15.0->tensorflow==2.15) (1.16.0)\n",
      "Requirement already satisfied: termcolor>=1.1.0 in c:\\users\\argraur\\projects\\nn\\lab1\\.conda\\lib\\site-packages (from tensorflow-intel==2.15.0->tensorflow==2.15) (2.4.0)\n",
      "Requirement already satisfied: typing-extensions>=3.6.6 in c:\\users\\argraur\\projects\\nn\\lab1\\.conda\\lib\\site-packages (from tensorflow-intel==2.15.0->tensorflow==2.15) (4.10.0)\n",
      "Requirement already satisfied: wrapt<1.15,>=1.11.0 in c:\\users\\argraur\\projects\\nn\\lab1\\.conda\\lib\\site-packages (from tensorflow-intel==2.15.0->tensorflow==2.15) (1.14.1)\n",
      "Requirement already satisfied: tensorflow-io-gcs-filesystem>=0.23.1 in c:\\users\\argraur\\projects\\nn\\lab1\\.conda\\lib\\site-packages (from tensorflow-intel==2.15.0->tensorflow==2.15) (0.31.0)\n",
      "Requirement already satisfied: grpcio<2.0,>=1.24.3 in c:\\users\\argraur\\projects\\nn\\lab1\\.conda\\lib\\site-packages (from tensorflow-intel==2.15.0->tensorflow==2.15) (1.62.1)\n",
      "Requirement already satisfied: tensorboard<2.16,>=2.15 in c:\\users\\argraur\\projects\\nn\\lab1\\.conda\\lib\\site-packages (from tensorflow-intel==2.15.0->tensorflow==2.15) (2.15.2)\n",
      "Requirement already satisfied: tensorflow-estimator<2.16,>=2.15.0 in c:\\users\\argraur\\projects\\nn\\lab1\\.conda\\lib\\site-packages (from tensorflow-intel==2.15.0->tensorflow==2.15) (2.15.0)\n",
      "Requirement already satisfied: keras<2.16,>=2.15.0 in c:\\users\\argraur\\projects\\nn\\lab1\\.conda\\lib\\site-packages (from tensorflow-intel==2.15.0->tensorflow==2.15) (2.15.0)\n",
      "Requirement already satisfied: wheel<1.0,>=0.23.0 in c:\\users\\argraur\\projects\\nn\\lab1\\.conda\\lib\\site-packages (from astunparse>=1.6.0->tensorflow-intel==2.15.0->tensorflow==2.15) (0.41.2)\n",
      "Requirement already satisfied: google-auth<3,>=1.6.3 in c:\\users\\argraur\\projects\\nn\\lab1\\.conda\\lib\\site-packages (from tensorboard<2.16,>=2.15->tensorflow-intel==2.15.0->tensorflow==2.15) (2.28.2)\n",
      "Requirement already satisfied: google-auth-oauthlib<2,>=0.5 in c:\\users\\argraur\\projects\\nn\\lab1\\.conda\\lib\\site-packages (from tensorboard<2.16,>=2.15->tensorflow-intel==2.15.0->tensorflow==2.15) (1.2.0)\n",
      "Requirement already satisfied: markdown>=2.6.8 in c:\\users\\argraur\\projects\\nn\\lab1\\.conda\\lib\\site-packages (from tensorboard<2.16,>=2.15->tensorflow-intel==2.15.0->tensorflow==2.15) (3.6)\n",
      "Requirement already satisfied: requests<3,>=2.21.0 in c:\\users\\argraur\\projects\\nn\\lab1\\.conda\\lib\\site-packages (from tensorboard<2.16,>=2.15->tensorflow-intel==2.15.0->tensorflow==2.15) (2.31.0)\n",
      "Requirement already satisfied: tensorboard-data-server<0.8.0,>=0.7.0 in c:\\users\\argraur\\projects\\nn\\lab1\\.conda\\lib\\site-packages (from tensorboard<2.16,>=2.15->tensorflow-intel==2.15.0->tensorflow==2.15) (0.7.2)\n",
      "Requirement already satisfied: werkzeug>=1.0.1 in c:\\users\\argraur\\projects\\nn\\lab1\\.conda\\lib\\site-packages (from tensorboard<2.16,>=2.15->tensorflow-intel==2.15.0->tensorflow==2.15) (3.0.1)\n",
      "Requirement already satisfied: cachetools<6.0,>=2.0.0 in c:\\users\\argraur\\projects\\nn\\lab1\\.conda\\lib\\site-packages (from google-auth<3,>=1.6.3->tensorboard<2.16,>=2.15->tensorflow-intel==2.15.0->tensorflow==2.15) (5.3.3)\n",
      "Requirement already satisfied: pyasn1-modules>=0.2.1 in c:\\users\\argraur\\projects\\nn\\lab1\\.conda\\lib\\site-packages (from google-auth<3,>=1.6.3->tensorboard<2.16,>=2.15->tensorflow-intel==2.15.0->tensorflow==2.15) (0.3.0)\n",
      "Requirement already satisfied: rsa<5,>=3.1.4 in c:\\users\\argraur\\projects\\nn\\lab1\\.conda\\lib\\site-packages (from google-auth<3,>=1.6.3->tensorboard<2.16,>=2.15->tensorflow-intel==2.15.0->tensorflow==2.15) (4.9)\n",
      "Requirement already satisfied: requests-oauthlib>=0.7.0 in c:\\users\\argraur\\projects\\nn\\lab1\\.conda\\lib\\site-packages (from google-auth-oauthlib<2,>=0.5->tensorboard<2.16,>=2.15->tensorflow-intel==2.15.0->tensorflow==2.15) (1.4.0)\n",
      "Requirement already satisfied: charset-normalizer<4,>=2 in c:\\users\\argraur\\projects\\nn\\lab1\\.conda\\lib\\site-packages (from requests<3,>=2.21.0->tensorboard<2.16,>=2.15->tensorflow-intel==2.15.0->tensorflow==2.15) (3.3.2)\n",
      "Requirement already satisfied: idna<4,>=2.5 in c:\\users\\argraur\\projects\\nn\\lab1\\.conda\\lib\\site-packages (from requests<3,>=2.21.0->tensorboard<2.16,>=2.15->tensorflow-intel==2.15.0->tensorflow==2.15) (3.6)\n",
      "Requirement already satisfied: urllib3<3,>=1.21.1 in c:\\users\\argraur\\projects\\nn\\lab1\\.conda\\lib\\site-packages (from requests<3,>=2.21.0->tensorboard<2.16,>=2.15->tensorflow-intel==2.15.0->tensorflow==2.15) (2.2.1)\n",
      "Requirement already satisfied: certifi>=2017.4.17 in c:\\users\\argraur\\projects\\nn\\lab1\\.conda\\lib\\site-packages (from requests<3,>=2.21.0->tensorboard<2.16,>=2.15->tensorflow-intel==2.15.0->tensorflow==2.15) (2024.2.2)\n",
      "Requirement already satisfied: MarkupSafe>=2.1.1 in c:\\users\\argraur\\projects\\nn\\lab1\\.conda\\lib\\site-packages (from werkzeug>=1.0.1->tensorboard<2.16,>=2.15->tensorflow-intel==2.15.0->tensorflow==2.15) (2.1.5)\n",
      "Requirement already satisfied: pyasn1<0.6.0,>=0.4.6 in c:\\users\\argraur\\projects\\nn\\lab1\\.conda\\lib\\site-packages (from pyasn1-modules>=0.2.1->google-auth<3,>=1.6.3->tensorboard<2.16,>=2.15->tensorflow-intel==2.15.0->tensorflow==2.15) (0.5.1)\n",
      "Requirement already satisfied: oauthlib>=3.0.0 in c:\\users\\argraur\\projects\\nn\\lab1\\.conda\\lib\\site-packages (from requests-oauthlib>=0.7.0->google-auth-oauthlib<2,>=0.5->tensorboard<2.16,>=2.15->tensorflow-intel==2.15.0->tensorflow==2.15) (3.2.2)\n",
      "Note: you may need to restart the kernel to use updated packages.\n"
     ]
    }
   ],
   "source": [
    "%pip install tensorflow==2.15 pillow"
   ]
  },
  {
   "cell_type": "markdown",
   "metadata": {},
   "source": [
    "## Путь, где хранится датасет"
   ]
  },
  {
   "cell_type": "code",
   "execution_count": 202,
   "metadata": {},
   "outputs": [],
   "source": [
    "import pathlib\n",
    "\n",
    "dataset_dir = pathlib.Path('./dataset-32x32rgb')"
   ]
  },
  {
   "cell_type": "markdown",
   "metadata": {},
   "source": [
    "## Параметры картинок в датасете"
   ]
  },
  {
   "cell_type": "markdown",
   "metadata": {},
   "source": [
    "### Высота и ширина картинки (разрешение)"
   ]
  },
  {
   "cell_type": "code",
   "execution_count": 203,
   "metadata": {},
   "outputs": [],
   "source": [
    "img_height = 32\n",
    "img_width = 32"
   ]
  },
  {
   "cell_type": "markdown",
   "metadata": {},
   "source": [
    "### Количество цветовых каналов"
   ]
  },
  {
   "cell_type": "code",
   "execution_count": 204,
   "metadata": {},
   "outputs": [],
   "source": [
    "color_channels = 3"
   ]
  },
  {
   "cell_type": "markdown",
   "metadata": {},
   "source": [
    "## Параметры НС"
   ]
  },
  {
   "cell_type": "markdown",
   "metadata": {},
   "source": [
    "### Сколько проб использовать для обновления весов за раз"
   ]
  },
  {
   "cell_type": "code",
   "execution_count": 205,
   "metadata": {},
   "outputs": [],
   "source": [
    "batch_size = 32"
   ]
  },
  {
   "cell_type": "markdown",
   "metadata": {},
   "source": [
    "### Число элементов в первом скрытом слое\n",
    "Количество элементов в слое имеет зависимость `Ns*2^(n-1)`, где n - номер скрытого слоя"
   ]
  },
  {
   "cell_type": "code",
   "execution_count": 206,
   "metadata": {},
   "outputs": [],
   "source": [
    "Ns = 16"
   ]
  },
  {
   "cell_type": "markdown",
   "metadata": {},
   "source": [
    "### Kernel size (на какие кусочки Conv2D разбивает входные данные)\n",
    "`kernel_size = 3` означает разбиение на кусочки 3x3 px"
   ]
  },
  {
   "cell_type": "code",
   "execution_count": 207,
   "metadata": {},
   "outputs": [],
   "source": [
    "kernel_size = 3"
   ]
  },
  {
   "cell_type": "markdown",
   "metadata": {},
   "source": [
    "### Кол-во итераций обучения"
   ]
  },
  {
   "cell_type": "code",
   "execution_count": 208,
   "metadata": {},
   "outputs": [],
   "source": [
    "epochs = 10"
   ]
  },
  {
   "cell_type": "markdown",
   "metadata": {},
   "source": [
    "## Загрузка датасета в train dataset и validation dataset\n",
    "Отношение `4:1`"
   ]
  },
  {
   "cell_type": "code",
   "execution_count": 209,
   "metadata": {},
   "outputs": [
    {
     "name": "stdout",
     "output_type": "stream",
     "text": [
      "Found 57627 files belonging to 66 classes.\n",
      "Using 46102 files for training.\n",
      "Found 57627 files belonging to 66 classes.\n",
      "Using 11525 files for validation.\n"
     ]
    }
   ],
   "source": [
    "import keras\n",
    "\n",
    "image_count = len(list(dataset_dir.glob('*/*.png')))\n",
    "\n",
    "train_ds = keras.utils.image_dataset_from_directory(\n",
    "    dataset_dir,\n",
    "    validation_split=0.2,\n",
    "    color_mode=\"rgb\",\n",
    "    subset=\"training\",\n",
    "    seed=123,\n",
    "    image_size=(img_height, img_width),\n",
    "    batch_size=batch_size\n",
    ")\n",
    "\n",
    "val_ds = keras.utils.image_dataset_from_directory(\n",
    "    dataset_dir,\n",
    "    validation_split=0.2,\n",
    "    color_mode=\"rgb\",\n",
    "    subset=\"validation\",\n",
    "    seed=123,\n",
    "    image_size=(img_height, img_width),\n",
    "    batch_size=batch_size\n",
    ")"
   ]
  },
  {
   "cell_type": "markdown",
   "metadata": {},
   "source": [
    "## Замена названий классов (букв) на human readable (а, б, в, ...)"
   ]
  },
  {
   "cell_type": "code",
   "execution_count": 210,
   "metadata": {},
   "outputs": [
    {
     "name": "stdout",
     "output_type": "stream",
     "text": [
      "До: ['00_00_00', '00_01_00', '00_02_00', '00_03_00', '00_04_00', '00_05_00', '00_06_00', '00_07_00', '00_08_00', '00_09_00', '00_10_00', '00_11_00', '00_12_00', '00_13_00', '00_14_00', '00_15_00', '00_16_00', '00_17_00', '00_18_00', '00_19_00', '00_20_00', '00_21_00', '00_22_00', '00_23_00', '00_24_00', '00_25_00', '00_26_00', '00_27_00', '00_28_00', '00_29_00', '00_30_00', '00_31_00', '00_32_00', '01_00_00', '01_01_00', '01_02_00', '01_03_00', '01_04_00', '01_05_00', '01_06_00', '01_07_00', '01_08_00', '01_09_00', '01_10_00', '01_11_00', '01_12_00', '01_13_00', '01_14_00', '01_15_00', '01_16_00', '01_17_00', '01_18_00', '01_19_00', '01_20_00', '01_21_00', '01_22_00', '01_23_00', '01_24_00', '01_25_00', '01_26_00', '01_27_00', '01_28_00', '01_29_00', '01_30_00', '01_31_00', '01_32_00']\n",
      "После: ['а', 'б', 'в', 'г', 'д', 'е', 'ё', 'ж', 'з', 'и', 'й', 'к', 'л', 'м', 'н', 'о', 'п', 'р', 'с', 'т', 'у', 'ф', 'х', 'ц', 'ч', 'ш', 'щ', 'ъ', 'ы', 'ь', 'э', 'ю', 'я', 'А', 'Б', 'В', 'Г', 'Д', 'Е', 'Ё', 'Ж', 'З', 'И', 'Й', 'К', 'Л', 'М', 'Н', 'О', 'П', 'Р', 'С', 'Т', 'У', 'Ф', 'Х', 'Ц', 'Ч', 'Ш', 'Щ', 'Ъ', 'Ы', 'Ь', 'Э', 'Ю', 'Я']\n"
     ]
    }
   ],
   "source": [
    "import numpy as np\n",
    "\n",
    "char = ord('а')\n",
    "char_upper = ord('А')\n",
    "yo = False\n",
    "Yo = False\n",
    "\n",
    "print(\"До: \" + str(train_ds.class_names))\n",
    "\n",
    "for i, v in enumerate(train_ds.class_names):\n",
    "    if train_ds.class_names[i].startswith('00'):\n",
    "       if (char == ord(\"ж\") and not yo):\n",
    "           train_ds.class_names[i] = 'ё'\n",
    "           yo = True\n",
    "           continue\n",
    "       train_ds.class_names[i] = chr(char)\n",
    "       char += 1\n",
    "    else:\n",
    "       if (char_upper == ord(\"Ж\") and not Yo):\n",
    "           train_ds.class_names[i] = 'Ё'\n",
    "           Yo = True\n",
    "           continue\n",
    "       train_ds.class_names[i] = chr(char_upper)\n",
    "       char_upper += 1\n",
    "\n",
    "class_names = train_ds.class_names\n",
    "\n",
    "print(\"После: \" + str(class_names))\n"
   ]
  },
  {
   "cell_type": "markdown",
   "metadata": {},
   "source": [
    "Сохраним названия классов для pretty предикта"
   ]
  },
  {
   "cell_type": "code",
   "execution_count": 211,
   "metadata": {},
   "outputs": [],
   "source": [
    "np.savetxt('class_names-dataset.txt', class_names, fmt='%s')"
   ]
  },
  {
   "cell_type": "markdown",
   "metadata": {},
   "source": [
    "### Определение слоев нейронной сети и компиляция модели"
   ]
  },
  {
   "cell_type": "code",
   "execution_count": 212,
   "metadata": {},
   "outputs": [],
   "source": [
    "import tensorflow as tf\n",
    "import keras.layers as layers\n",
    "\n",
    "num_classes = len(class_names)\n",
    "\n",
    "model = keras.models.Sequential([\n",
    "  layers.Rescaling(1./255, input_shape=(img_height, img_width, color_channels)),\n",
    "  layers.Conv2D(Ns, kernel_size, padding='same', activation='relu'),\n",
    "  layers.MaxPooling2D(),\n",
    "  layers.Conv2D(Ns*2, kernel_size, padding='same', activation='relu'),\n",
    "  layers.MaxPooling2D(),\n",
    "  layers.Conv2D(Ns*2**2, kernel_size, padding='same', activation='relu'),\n",
    "  layers.MaxPooling2D(),\n",
    "  layers.Dropout(0.1),\n",
    "  layers.Flatten(),\n",
    "  layers.Dense(Ns*2**3, activation='relu'),\n",
    "  layers.Dense(num_classes)\n",
    "])\n",
    "\n",
    "model.compile(optimizer='adam',\n",
    "              loss=tf.keras.losses.SparseCategoricalCrossentropy(from_logits=True),\n",
    "              metrics=['accuracy'])"
   ]
  },
  {
   "cell_type": "markdown",
   "metadata": {},
   "source": [
    "### Характеристики слоев модели"
   ]
  },
  {
   "cell_type": "code",
   "execution_count": 213,
   "metadata": {},
   "outputs": [
    {
     "name": "stdout",
     "output_type": "stream",
     "text": [
      "Model: \"sequential_14\"\n",
      "_________________________________________________________________\n",
      " Layer (type)                Output Shape              Param #   \n",
      "=================================================================\n",
      " rescaling_14 (Rescaling)    (None, 32, 32, 3)         0         \n",
      "                                                                 \n",
      " conv2d_57 (Conv2D)          (None, 32, 32, 16)        448       \n",
      "                                                                 \n",
      " max_pooling2d_57 (MaxPooli  (None, 16, 16, 16)        0         \n",
      " ng2D)                                                           \n",
      "                                                                 \n",
      " conv2d_58 (Conv2D)          (None, 16, 16, 32)        4640      \n",
      "                                                                 \n",
      " max_pooling2d_58 (MaxPooli  (None, 8, 8, 32)          0         \n",
      " ng2D)                                                           \n",
      "                                                                 \n",
      " conv2d_59 (Conv2D)          (None, 8, 8, 64)          18496     \n",
      "                                                                 \n",
      " max_pooling2d_59 (MaxPooli  (None, 4, 4, 64)          0         \n",
      " ng2D)                                                           \n",
      "                                                                 \n",
      " dropout_12 (Dropout)        (None, 4, 4, 64)          0         \n",
      "                                                                 \n",
      " flatten_14 (Flatten)        (None, 1024)              0         \n",
      "                                                                 \n",
      " dense_28 (Dense)            (None, 128)               131200    \n",
      "                                                                 \n",
      " dense_29 (Dense)            (None, 66)                8514      \n",
      "                                                                 \n",
      "=================================================================\n",
      "Total params: 163298 (637.88 KB)\n",
      "Trainable params: 163298 (637.88 KB)\n",
      "Non-trainable params: 0 (0.00 Byte)\n",
      "_________________________________________________________________\n"
     ]
    }
   ],
   "source": [
    "model.summary()"
   ]
  },
  {
   "cell_type": "markdown",
   "metadata": {},
   "source": [
    "### Обучение модели и сохранение"
   ]
  },
  {
   "cell_type": "code",
   "execution_count": 214,
   "metadata": {},
   "outputs": [
    {
     "name": "stdout",
     "output_type": "stream",
     "text": [
      "Epoch 1/10\n"
     ]
    },
    {
     "name": "stdout",
     "output_type": "stream",
     "text": [
      "1441/1441 [==============================] - 14s 9ms/step - loss: 2.6969 - accuracy: 0.3342 - val_loss: 1.1842 - val_accuracy: 0.6765\n",
      "Epoch 2/10\n",
      "1441/1441 [==============================] - 14s 10ms/step - loss: 0.9378 - accuracy: 0.7362 - val_loss: 0.7358 - val_accuracy: 0.7918\n",
      "Epoch 3/10\n",
      "1441/1441 [==============================] - 15s 10ms/step - loss: 0.6374 - accuracy: 0.8147 - val_loss: 0.5526 - val_accuracy: 0.8393\n",
      "Epoch 4/10\n",
      "1441/1441 [==============================] - 15s 10ms/step - loss: 0.4963 - accuracy: 0.8536 - val_loss: 0.4316 - val_accuracy: 0.8723\n",
      "Epoch 5/10\n",
      "1441/1441 [==============================] - 15s 10ms/step - loss: 0.4125 - accuracy: 0.8757 - val_loss: 0.4035 - val_accuracy: 0.8818\n",
      "Epoch 6/10\n",
      "1441/1441 [==============================] - 14s 10ms/step - loss: 0.3479 - accuracy: 0.8937 - val_loss: 0.3343 - val_accuracy: 0.9002\n",
      "Epoch 7/10\n",
      "1441/1441 [==============================] - 14s 10ms/step - loss: 0.3039 - accuracy: 0.9061 - val_loss: 0.3527 - val_accuracy: 0.8949\n",
      "Epoch 8/10\n",
      "1441/1441 [==============================] - 14s 10ms/step - loss: 0.2711 - accuracy: 0.9141 - val_loss: 0.3401 - val_accuracy: 0.9009\n",
      "Epoch 9/10\n",
      "1441/1441 [==============================] - 14s 10ms/step - loss: 0.2434 - accuracy: 0.9240 - val_loss: 0.3033 - val_accuracy: 0.9122\n",
      "Epoch 10/10\n",
      "1441/1441 [==============================] - 13s 9ms/step - loss: 0.2233 - accuracy: 0.9296 - val_loss: 0.2707 - val_accuracy: 0.9217\n",
      "Model: \"sequential_14\"\n",
      "_________________________________________________________________\n",
      " Layer (type)                Output Shape              Param #   \n",
      "=================================================================\n",
      " rescaling_14 (Rescaling)    (None, 32, 32, 3)         0         \n",
      "                                                                 \n",
      " conv2d_57 (Conv2D)          (None, 32, 32, 16)        448       \n",
      "                                                                 \n",
      " max_pooling2d_57 (MaxPooli  (None, 16, 16, 16)        0         \n",
      " ng2D)                                                           \n",
      "                                                                 \n",
      " conv2d_58 (Conv2D)          (None, 16, 16, 32)        4640      \n",
      "                                                                 \n",
      " max_pooling2d_58 (MaxPooli  (None, 8, 8, 32)          0         \n",
      " ng2D)                                                           \n",
      "                                                                 \n",
      " conv2d_59 (Conv2D)          (None, 8, 8, 64)          18496     \n",
      "                                                                 \n",
      " max_pooling2d_59 (MaxPooli  (None, 4, 4, 64)          0         \n",
      " ng2D)                                                           \n",
      "                                                                 \n",
      " dropout_12 (Dropout)        (None, 4, 4, 64)          0         \n",
      "                                                                 \n",
      " flatten_14 (Flatten)        (None, 1024)              0         \n",
      "                                                                 \n",
      " dense_28 (Dense)            (None, 128)               131200    \n",
      "                                                                 \n",
      " dense_29 (Dense)            (None, 66)                8514      \n",
      "                                                                 \n",
      "=================================================================\n",
      "Total params: 163298 (637.88 KB)\n",
      "Trainable params: 163298 (637.88 KB)\n",
      "Non-trainable params: 0 (0.00 Byte)\n",
      "_________________________________________________________________\n"
     ]
    }
   ],
   "source": [
    "history = model.fit(\n",
    "    train_ds,\n",
    "    validation_data=val_ds,\n",
    "    epochs=epochs\n",
    ")\n",
    "\n",
    "model.save('russian-cursive-32x32rgb.model.keras')\n",
    "\n",
    "model.summary()"
   ]
  }
 ],
 "metadata": {
  "kernelspec": {
   "display_name": "Python 3",
   "language": "python",
   "name": "python3"
  },
  "language_info": {
   "codemirror_mode": {
    "name": "ipython",
    "version": 3
   },
   "file_extension": ".py",
   "mimetype": "text/x-python",
   "name": "python",
   "nbconvert_exporter": "python",
   "pygments_lexer": "ipython3",
   "version": "3.10.13"
  }
 },
 "nbformat": 4,
 "nbformat_minor": 2
}
