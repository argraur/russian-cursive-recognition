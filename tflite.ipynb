{
 "cells": [
  {
   "cell_type": "code",
   "execution_count": 16,
   "metadata": {},
   "outputs": [],
   "source": [
    "model_name = \"russian-cursive-32x32rgb.model.keras\"\n",
    "\n",
    "tflite_model_name = \"russian-cursive.tflite\"\n",
    "\n",
    "tflite_with_metadata_export_path = \"./tflite_with_metadata\"\n",
    "\n",
    "class_names_file = \"class_names-dataset.txt\""
   ]
  },
  {
   "cell_type": "code",
   "execution_count": 17,
   "metadata": {},
   "outputs": [
    {
     "name": "stdout",
     "output_type": "stream",
     "text": [
      "INFO:tensorflow:Assets written to: C:\\Users\\argraur\\AppData\\Local\\Temp\\tmp2igbpi39\\assets\n"
     ]
    },
    {
     "name": "stderr",
     "output_type": "stream",
     "text": [
      "INFO:tensorflow:Assets written to: C:\\Users\\argraur\\AppData\\Local\\Temp\\tmp2igbpi39\\assets\n"
     ]
    }
   ],
   "source": [
    "import keras\n",
    "import tensorflow as tf\n",
    "\n",
    "model = keras.models.load_model(model_name)\n",
    "converter = tf.lite.TFLiteConverter.from_keras_model(model)\n",
    "tflite_model = converter.convert()\n",
    "\n",
    "with open(tflite_model_name, 'wb') as f:\n",
    "  f.write(tflite_model)"
   ]
  },
  {
   "cell_type": "code",
   "execution_count": 18,
   "metadata": {},
   "outputs": [
    {
     "name": "stdout",
     "output_type": "stream",
     "text": [
      "Requirement already satisfied: tflite-support in c:\\users\\argraur\\projects\\nn\\lab1\\.conda\\lib\\site-packages (0.1.0a1)\n",
      "Requirement already satisfied: pybind11>=2.4 in c:\\users\\argraur\\projects\\nn\\lab1\\.conda\\lib\\site-packages (from tflite-support) (2.11.1)\n",
      "Requirement already satisfied: absl-py>=0.7.0 in c:\\users\\argraur\\projects\\nn\\lab1\\.conda\\lib\\site-packages (from tflite-support) (2.1.0)\n",
      "Requirement already satisfied: numpy in c:\\users\\argraur\\projects\\nn\\lab1\\.conda\\lib\\site-packages (from tflite-support) (1.26.4)\n",
      "Note: you may need to restart the kernel to use updated packages.\n"
     ]
    }
   ],
   "source": [
    "%pip install tflite-support"
   ]
  },
  {
   "cell_type": "code",
   "execution_count": 19,
   "metadata": {},
   "outputs": [],
   "source": [
    "%mkdir .\\tflite_with_metadata\n",
    "\n",
    "import os\n",
    "import tflite_support\n",
    "from metadata_writer_for_image_classifier import MetadataPopulatorForImageClassifier\n",
    "from metadata_writer_for_image_classifier import _MODEL_INFO\n",
    "\n",
    "model_basename = os.path.basename(tflite_model_name)\n",
    "\n",
    "export_model_path = os.path.join(tflite_with_metadata_export_path, model_basename)\n",
    "\n",
    "tf.io.gfile.copy(tflite_model_name, export_model_path, overwrite=False)\n",
    "\n",
    "populator = MetadataPopulatorForImageClassifier(export_model_path, _MODEL_INFO.get(model_basename), class_names_file)\n",
    "populator.populate()\n",
    "\n",
    "# Validate the output model file by reading the metadata and produce\n",
    "# a json file with the metadata under the export path\n",
    "displayer = tflite_support.metadata.MetadataDisplayer.with_model_file(export_model_path)\n",
    "export_json_file = os.path.join(tflite_with_metadata_export_path,\n",
    "                                os.path.splitext(model_basename)[0] + \".json\")\n",
    "json_file = displayer.get_metadata_json()\n",
    "\n",
    "with open(export_json_file, \"w\") as f:\n",
    "    f.write(json_file)"
   ]
  }
 ],
 "metadata": {
  "kernelspec": {
   "display_name": "Python 3",
   "language": "python",
   "name": "python3"
  },
  "language_info": {
   "codemirror_mode": {
    "name": "ipython",
    "version": 3
   },
   "file_extension": ".py",
   "mimetype": "text/x-python",
   "name": "python",
   "nbconvert_exporter": "python",
   "pygments_lexer": "ipython3",
   "version": "3.10.13"
  }
 },
 "nbformat": 4,
 "nbformat_minor": 2
}
